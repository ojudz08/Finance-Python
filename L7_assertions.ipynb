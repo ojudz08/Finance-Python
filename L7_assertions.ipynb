{
 "cells": [
  {
   "cell_type": "code",
   "execution_count": 13,
   "metadata": {
    "collapsed": false
   },
   "outputs": [
    {
     "name": "stdout",
     "output_type": "stream",
     "text": [
      "Good to go\n",
      "Good to go\n",
      "\t\n",
      "5\n"
     ]
    }
   ],
   "source": [
    "# Assertions are used to check if conditions/arguments are true \n",
    "# then stopping the program if it is not met. Docstring are blocks of text\n",
    "# we can use to describe a function. \n",
    "\n",
    "# assert is followed by a boolean value\n",
    "assert 5 == 5\n",
    "print(\"Good to go\")      # since the condition is true, it will print the strin\n",
    "\n",
    "# assert 5 == 6\n",
    "# print(\"Good to go\")      # error will appear, AsertionError\n",
    "\n",
    "# assert 5 == 6, \"Numbers not equal\"    # will return error Numbers not equal\n",
    "# print(\"Good to go\")\n",
    "\n",
    "assert type(5) == int\n",
    "print(\"Good to go\")        # will print since condition holds True\n",
    "\n",
    "# assert type('5') == int\n",
    "# print(\"Good to go\")        # will return error\n",
    "\n",
    "print(\"\\t\")\n",
    "\n",
    "# NOTE: Assertions can be of good used when you code defensively.\n",
    "# Using assertions will check if arguments/conditions holds True\n",
    "# before start doing operations\n",
    "\n",
    "# Example\n",
    "def add(a, b):\n",
    "    assert type(a) == int and type(b) == int, \"Arguments must be int\"\n",
    "    return a + b\n",
    "\n",
    "c = add(1, 4)\n",
    "print(c)\n",
    "\n",
    "# c = add('1', 4)\n",
    "# print(c)          # error will appear"
   ]
  },
  {
   "cell_type": "code",
   "execution_count": 15,
   "metadata": {
    "collapsed": true
   },
   "outputs": [],
   "source": [
    "# Use command ? function to get information about the function/arg in python\n",
    "# Example: Getting info about max() function\n",
    "? max()\n",
    "\n",
    "# The information about max() comes in a form of docstring\n",
    "# Docstring are blocks of text between triple quotes\n",
    "# Using docstring on functions, is to describe what the function does\n",
    "\n",
    "# Example\n",
    "def add(a, b):\n",
    "    \"\"\"This function adds a and b together\n",
    "    Args:\n",
    "        a (int): The first number\n",
    "        b (int): The second number\n",
    "    \"\"\"\n",
    "    assert type(a) == int and type(b) == int, \"Arguments must be integers\"\n",
    "    return a + b\n",
    "\n",
    "add(1, 2)\n",
    "? add()       # this will return the information about the function"
   ]
  },
  {
   "cell_type": "code",
   "execution_count": null,
   "metadata": {
    "collapsed": true
   },
   "outputs": [],
   "source": []
  }
 ],
 "metadata": {
  "kernelspec": {
   "display_name": "Python 3",
   "language": "python",
   "name": "python3"
  },
  "language_info": {
   "codemirror_mode": {
    "name": "ipython",
    "version": 3
   },
   "file_extension": ".py",
   "mimetype": "text/x-python",
   "name": "python",
   "nbconvert_exporter": "python",
   "pygments_lexer": "ipython3",
   "version": "3.6.0"
  }
 },
 "nbformat": 4,
 "nbformat_minor": 2
}

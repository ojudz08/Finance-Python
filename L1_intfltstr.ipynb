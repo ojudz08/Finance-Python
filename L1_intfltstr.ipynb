{
 "cells": [
  {
   "cell_type": "code",
   "execution_count": 1,
   "metadata": {
    "collapsed": false
   },
   "outputs": [
    {
     "name": "stdout",
     "output_type": "stream",
     "text": [
      "Hello World\n"
     ]
    }
   ],
   "source": [
    "print(\"Hello World\")"
   ]
  },
  {
   "cell_type": "code",
   "execution_count": 2,
   "metadata": {
    "collapsed": false
   },
   "outputs": [
    {
     "name": "stdout",
     "output_type": "stream",
     "text": [
      "5\n"
     ]
    }
   ],
   "source": [
    "x = 5\n",
    "print(x)"
   ]
  },
  {
   "cell_type": "code",
   "execution_count": 3,
   "metadata": {
    "collapsed": false
   },
   "outputs": [
    {
     "name": "stdout",
     "output_type": "stream",
     "text": [
      "<class 'int'>\n"
     ]
    }
   ],
   "source": [
    "print(type(x))"
   ]
  },
  {
   "cell_type": "code",
   "execution_count": 4,
   "metadata": {
    "collapsed": false
   },
   "outputs": [],
   "source": [
    "name = 'Bob'"
   ]
  },
  {
   "cell_type": "code",
   "execution_count": 5,
   "metadata": {
    "collapsed": false
   },
   "outputs": [
    {
     "name": "stdout",
     "output_type": "stream",
     "text": [
      "Bob\n",
      "<class 'str'>\n"
     ]
    }
   ],
   "source": [
    "# Challenge 1\n",
    "# Print the value of name and then print the type name\n",
    "print(name)\n",
    "print(type(name))"
   ]
  },
  {
   "cell_type": "code",
   "execution_count": 6,
   "metadata": {
    "collapsed": false
   },
   "outputs": [
    {
     "name": "stdout",
     "output_type": "stream",
     "text": [
      "5\n",
      "10\n",
      "4\n",
      "6\n",
      "6\n"
     ]
    }
   ],
   "source": [
    "# Example of re-assigning variable values\n",
    "x = 5\n",
    "print(x)\n",
    "x = 10\n",
    "print(x)\n",
    "\n",
    "# Example of operations in python\n",
    "print(2+2)    # print result directly\n",
    "\n",
    "x = 5\n",
    "x = x + 1  \n",
    "print(x)\n",
    "\n",
    "# Shorthand of the above example\n",
    "x = 5\n",
    "x += 1\n",
    "print(x)"
   ]
  },
  {
   "cell_type": "code",
   "execution_count": 7,
   "metadata": {
    "collapsed": false
   },
   "outputs": [
    {
     "name": "stdout",
     "output_type": "stream",
     "text": [
      "15\n",
      "5\n",
      "10\n",
      "2.0\n",
      "8\n"
     ]
    }
   ],
   "source": [
    "# Adding two variables together\n",
    "x = 5\n",
    "y = 10\n",
    "z = x + y\n",
    "print(z)\n",
    "\n",
    "# Other operations\n",
    "print(10-5)\n",
    "print(2*5)\n",
    "print(10/5)\n",
    "print(2**3)"
   ]
  },
  {
   "cell_type": "code",
   "execution_count": 8,
   "metadata": {
    "collapsed": false
   },
   "outputs": [
    {
     "name": "stdout",
     "output_type": "stream",
     "text": [
      "25\n"
     ]
    }
   ],
   "source": [
    "# Challenge 2\n",
    "# Add 2 and 3 then square it\n",
    "print((2+3)**2)"
   ]
  },
  {
   "cell_type": "code",
   "execution_count": 9,
   "metadata": {
    "collapsed": false
   },
   "outputs": [
    {
     "name": "stdout",
     "output_type": "stream",
     "text": [
      "string1\n",
      "string2\n",
      "John Doe\n",
      "A 1\n",
      "3\n"
     ]
    }
   ],
   "source": [
    "# Strings\n",
    "\n",
    "# Use single or double \n",
    "a = 'string1'\n",
    "b = \"string2\"\n",
    "print(a)\n",
    "print(b)\n",
    "\n",
    "# Adding strings using +\n",
    "first = \"John \"\n",
    "last = \"Doe\"\n",
    "print(first+last)\n",
    "\n",
    "# However, adding a string and an integer is a no no, you'll encounter an error because they are two different types\n",
    "# \"A\" + 1\n",
    "\n",
    "# Unless you convert the other variable\n",
    "print(\"A \" + str(1))\n",
    "print(int(\"1\") + 2) "
   ]
  },
  {
   "cell_type": "code",
   "execution_count": 10,
   "metadata": {
    "collapsed": false
   },
   "outputs": [
    {
     "name": "stdout",
     "output_type": "stream",
     "text": [
      "H\n",
      "e\n",
      "He\n",
      "H\n"
     ]
    }
   ],
   "source": [
    "# String indexing\n",
    "s = \"Hello World\"\n",
    "\n",
    "print(s[0])      # in python, indexing starts at 0\n",
    "print(s[1])\n",
    "print(s[0:2])    # get the 1st to 2nd element (except 3rd element)\n",
    "print(s[0:1])    # returns the 1st element only"
   ]
  },
  {
   "cell_type": "code",
   "execution_count": 11,
   "metadata": {
    "collapsed": false
   },
   "outputs": [
    {
     "name": "stdout",
     "output_type": "stream",
     "text": [
      "el\n"
     ]
    }
   ],
   "source": [
    "# Challenge 3\n",
    "# Print out \"el\" from the strings using indexing\n",
    "print(s[1:3])"
   ]
  },
  {
   "cell_type": "code",
   "execution_count": 12,
   "metadata": {
    "collapsed": false
   },
   "outputs": [
    {
     "name": "stdout",
     "output_type": "stream",
     "text": [
      "Hel\n",
      "lo World\n"
     ]
    }
   ],
   "source": [
    "# Additional examples of indexing\n",
    "print(s[:3])    # leaving out the left index returns every element except the right index\n",
    "print(s[3:])    # leaving out the right index returns from the 4th element up to the last element"
   ]
  },
  {
   "cell_type": "code",
   "execution_count": 13,
   "metadata": {
    "collapsed": false
   },
   "outputs": [
    {
     "name": "stdout",
     "output_type": "stream",
     "text": [
      "181\n"
     ]
    }
   ],
   "source": [
    "# String indexing techniques\n",
    "text = \"Technology is nothing. What's important is that you have a faith in people, that they're basically good and smart, and if you give them tools, they'll do wonderful things with them.\"\n",
    "print(len(text))   # len function returns the length of the variable"
   ]
  },
  {
   "cell_type": "code",
   "execution_count": 14,
   "metadata": {
    "collapsed": false
   },
   "outputs": [
    {
     "name": "stdout",
     "output_type": "stream",
     "text": [
      "Technology is nothing. What's important is that you have a faith in people, that they're basically good and smart, and if you give them tools, they'll do wonderful things with them.\n"
     ]
    }
   ],
   "source": [
    "# Represent string in triple quotes, encapture string on multiple lines\n",
    "\n",
    "text = \"\"\"Technology is nothing. What's important is that you have a faith in people, that they're basically good and smart, and if you give them tools, they'll do wonderful things with them.\"\"\"\n",
    "print(text)"
   ]
  },
  {
   "cell_type": "code",
   "execution_count": 15,
   "metadata": {
    "collapsed": false
   },
   "outputs": [
    {
     "name": "stdout",
     "output_type": "stream",
     "text": [
      "technology is nothing. what's important is that you have a faith in people, that they're basically good and smart, and if you give them tools, they'll do wonderful things with them.\n",
      "Technology is nothing. What's important is that you have a faith in people, that they're basically good and smart, and if you give them tools, they'll do wonderful things with them.\n",
      "TECHNOLOGY IS NOTHING. WHAT'S IMPORTANT IS THAT YOU HAVE A FAITH IN PEOPLE, THAT THEY'RE BASICALLY GOOD AND SMART, AND IF YOU GIVE THEM TOOLS, THEY'LL DO WONDERFUL THINGS WITH THEM.\n"
     ]
    }
   ],
   "source": [
    "# .lower() function gets the lowercased version of the string\n",
    "print(text.lower())\n",
    "print(text)        # but does not modify the string\n",
    "\n",
    "text = text.lower()   # this one does by assigning it again to its own variable\n",
    "\n",
    "# .upper() function gets the uppercased version but does not modify it\n",
    "print(text.upper())"
   ]
  },
  {
   "cell_type": "code",
   "execution_count": 16,
   "metadata": {
    "collapsed": false
   },
   "outputs": [
    {
     "name": "stdout",
     "output_type": "stream",
     "text": [
      "11\n",
      "40\n",
      "-1\n",
      "[\"Technology is nothing. What's important is that you have a \", \" in people, that they're basically good and smart, and if you give them tools, they'll do wonderful things with them.\"]\n"
     ]
    }
   ],
   "source": [
    "# Reset text\n",
    "text = \"\"\"Technology is nothing. What's important is that you have a faith in people, that they're basically good and smart, and if you give them tools, they'll do wonderful things with them.\"\"\"\n",
    "\n",
    "# .find() function looks for a string within the string and returns the index\n",
    "print(text.find(\"is\"))       # this will return the first instance\n",
    "\n",
    "print(text.find(\"is\", 12))   # finds after the 12th index\n",
    "\n",
    "print(text.find(\"sleep\"))    # returns -1 if it does not find the string\n",
    "\n",
    "\n",
    "# .split() function splits the string on the keyword you specify and returns the list\n",
    "print(text.split('faith'))"
   ]
  },
  {
   "cell_type": "code",
   "execution_count": 17,
   "metadata": {
    "collapsed": false
   },
   "outputs": [
    {
     "name": "stdout",
     "output_type": "stream",
     "text": [
      "2.5\n",
      "<class 'float'>\n",
      "5\n",
      "5\n",
      "10\n",
      "100\n"
     ]
    }
   ],
   "source": [
    "a = 2.5\n",
    "print(a)\n",
    "print(type(a))\n",
    "\n",
    "# declare multiple varialbe\n",
    "a = b =5\n",
    "print(a)\n",
    "print(b)\n",
    "\n",
    "# other method of declaring multiple variable\n",
    "a, b = 10, 100\n",
    "print(a)\n",
    "print(b)"
   ]
  },
  {
   "cell_type": "code",
   "execution_count": null,
   "metadata": {
    "collapsed": true
   },
   "outputs": [],
   "source": []
  }
 ],
 "metadata": {
  "kernelspec": {
   "display_name": "Python 3",
   "language": "python",
   "name": "python3"
  },
  "language_info": {
   "codemirror_mode": {
    "name": "ipython",
    "version": 3
   },
   "file_extension": ".py",
   "mimetype": "text/x-python",
   "name": "python",
   "nbconvert_exporter": "python",
   "pygments_lexer": "ipython3",
   "version": "3.6.0"
  }
 },
 "nbformat": 4,
 "nbformat_minor": 2
}

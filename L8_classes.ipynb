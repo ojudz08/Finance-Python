{
 "cells": [
  {
   "cell_type": "code",
   "execution_count": 47,
   "metadata": {
    "collapsed": false
   },
   "outputs": [
    {
     "name": "stdout",
     "output_type": "stream",
     "text": [
      "<__main__.person object at 0x00000254DDC917F0>\n",
      "Hi\n"
     ]
    }
   ],
   "source": [
    "# Class is used to represent an object\n",
    "# It is comprised of functions\n",
    "\n",
    "class person:     # declaring class in python\n",
    "    pass          # nothing will happen\n",
    "\n",
    "Carl = person()\n",
    "print(Carl)\n",
    "\n",
    "\n",
    "# Adding a function to class, defines function only to that class and can't be called outside\n",
    "# of instances of the class\n",
    "class person:\n",
    "    def sayHi(self):\n",
    "        print(\"Hi\")\n",
    "\n",
    "# Carl.sayHi()        # you'll encounter error since object Carl was defined with a previous definition\n",
    "Carl = person()       # need to recall \n",
    "Carl.sayHi()"
   ]
  },
  {
   "cell_type": "code",
   "execution_count": 48,
   "metadata": {
    "collapsed": false
   },
   "outputs": [
    {
     "name": "stdout",
     "output_type": "stream",
     "text": [
      "I am 15 years old.\n",
      "I am 15 years old.\n",
      "\t\n",
      "I am 20 years old.\n",
      "I am 15 years old.\n",
      "\t\n",
      "I am 25 years old.\n",
      "Hi\n"
     ]
    }
   ],
   "source": [
    "# self.variableName is used to access variables inside the class function\n",
    "# Example: Setting the attribute for your class, define age = 15\n",
    "class person:\n",
    "    age = 15\n",
    "    def sayHi(self):\n",
    "        print(\"Hi\")\n",
    "    def tellAge(self):\n",
    "        print(\"I am \"+ str(self.age) + \" years old.\")\n",
    "\n",
    "Carl = person()\n",
    "Carl.tellAge()\n",
    "Tom = person()\n",
    "Tom.tellAge()\n",
    "\n",
    "print(\"\\t\")\n",
    "# Each variable can be modified manually\n",
    "# Example: Create a class person but define age = 20 instead of 15\n",
    "Carl = person()\n",
    "Carl.age = 20        # setting age = 20\n",
    "Carl.tellAge()\n",
    "Dan = person()\n",
    "Dan.tellAge()        # calls the variable age = 15 inside the class person\n",
    "\n",
    "\n",
    "print(\"\\t\")\n",
    "# Instead of manually defining the variables, one can use constructor\n",
    "# Constructor are defined as __init__ which takes arguments given when\n",
    "# the instance is created and then allows you to custom your code\n",
    "# Example: Creating class person and using __init__ to set up initialization\n",
    "#          Passing arguments and use those to set attributes/properties\n",
    "#          Here, passing age attribute and give it to class object\n",
    "class person():\n",
    "    def __init__(self, age):\n",
    "        self.age = age\n",
    "    def sayHi(self):\n",
    "        print(\"Hi\")\n",
    "    def tellAge(self):\n",
    "        print(\"I am \"+ str(self.age) + \" years old.\")\n",
    "\n",
    "Carl = person(25)\n",
    "Carl.tellAge()\n",
    "Carl.sayHi()"
   ]
  },
  {
   "cell_type": "code",
   "execution_count": 49,
   "metadata": {
    "collapsed": false
   },
   "outputs": [
    {
     "name": "stdout",
     "output_type": "stream",
     "text": [
      "I am 15 years old.\n"
     ]
    }
   ],
   "source": [
    "# Modify all functions inside the class person using __init__\n",
    "class person():\n",
    "    def __init__(self, age):\n",
    "        self.age = age\n",
    "    def sayHi(self):\n",
    "        print(\"Hi\")\n",
    "    def tellAge(self):\n",
    "        print(\"I am \"+ str(self.age) + \" years old.\")\n",
    "\n",
    "Carl = person(15)\n",
    "Carl.tellAge()     "
   ]
  },
  {
   "cell_type": "code",
   "execution_count": 56,
   "metadata": {
    "collapsed": false
   },
   "outputs": [
    {
     "name": "stdout",
     "output_type": "stream",
     "text": [
      "I am 27.397260273972602 years old.\n"
     ]
    }
   ],
   "source": [
    "# Challenge 1: Create the constructor so that it takes the number of\n",
    "# days someone has been alive and sets the person's age equal to\n",
    "# this number divided by 365\n",
    "\n",
    "class person:\n",
    "    def __init__(self, days):\n",
    "        self.age = days / 365\n",
    "    def sayHi(self):\n",
    "        print(\"Hi\")\n",
    "    def tellAge(self):\n",
    "        print(\"I am \"+ str(self.age) + \" years old.\")\n",
    "\n",
    "Carl = person(10000)\n",
    "Carl.tellAge()"
   ]
  },
  {
   "cell_type": "code",
   "execution_count": 58,
   "metadata": {
    "collapsed": false
   },
   "outputs": [
    {
     "name": "stdout",
     "output_type": "stream",
     "text": [
      "I am Fish years old.\n",
      "\t\n",
      "I am 25 years old.\n",
      "\t\n"
     ]
    },
    {
     "ename": "AssertionError",
     "evalue": "Age must be an integer",
     "output_type": "error",
     "traceback": [
      "\u001b[0;31m---------------------------------------------------------------------------\u001b[0m",
      "\u001b[0;31mAssertionError\u001b[0m                            Traceback (most recent call last)",
      "\u001b[0;32m<ipython-input-58-e15f84eb24d6>\u001b[0m in \u001b[0;36m<module>\u001b[0;34m()\u001b[0m\n\u001b[1;32m     43\u001b[0m         \u001b[0mself\u001b[0m\u001b[1;33m.\u001b[0m\u001b[0mage\u001b[0m \u001b[1;33m=\u001b[0m \u001b[0mage\u001b[0m\u001b[1;33m\u001b[0m\u001b[0m\n\u001b[1;32m     44\u001b[0m \u001b[1;33m\u001b[0m\u001b[0m\n\u001b[0;32m---> 45\u001b[0;31m \u001b[0mCarl\u001b[0m \u001b[1;33m=\u001b[0m \u001b[0mperson\u001b[0m\u001b[1;33m(\u001b[0m\u001b[1;34m\"Fish\"\u001b[0m\u001b[1;33m)\u001b[0m\u001b[1;33m\u001b[0m\u001b[0m\n\u001b[0m\u001b[1;32m     46\u001b[0m \u001b[0mCarl\u001b[0m\u001b[1;33m.\u001b[0m\u001b[0mtellAge\u001b[0m\u001b[1;33m(\u001b[0m\u001b[1;33m)\u001b[0m\u001b[1;33m\u001b[0m\u001b[0m\n",
      "\u001b[0;32m<ipython-input-58-e15f84eb24d6>\u001b[0m in \u001b[0;36m__init__\u001b[0;34m(self, age)\u001b[0m\n\u001b[1;32m     34\u001b[0m \u001b[1;32mclass\u001b[0m \u001b[0mperson\u001b[0m\u001b[1;33m:\u001b[0m\u001b[1;33m\u001b[0m\u001b[0m\n\u001b[1;32m     35\u001b[0m     \u001b[1;32mdef\u001b[0m \u001b[0m__init__\u001b[0m\u001b[1;33m(\u001b[0m\u001b[0mself\u001b[0m\u001b[1;33m,\u001b[0m \u001b[0mage\u001b[0m\u001b[1;33m)\u001b[0m\u001b[1;33m:\u001b[0m\u001b[1;33m\u001b[0m\u001b[0m\n\u001b[0;32m---> 36\u001b[0;31m         \u001b[1;32massert\u001b[0m \u001b[0mtype\u001b[0m\u001b[1;33m(\u001b[0m\u001b[0mage\u001b[0m\u001b[1;33m)\u001b[0m \u001b[1;33m==\u001b[0m \u001b[0mint\u001b[0m\u001b[1;33m,\u001b[0m \u001b[1;34m\"Age must be an integer\"\u001b[0m\u001b[1;33m\u001b[0m\u001b[0m\n\u001b[0m\u001b[1;32m     37\u001b[0m         \u001b[0msel\u001b[0m\u001b[1;33m.\u001b[0m\u001b[0mage\u001b[0m \u001b[1;33m=\u001b[0m \u001b[0mage\u001b[0m\u001b[1;33m\u001b[0m\u001b[0m\n\u001b[1;32m     38\u001b[0m     \u001b[1;32mdef\u001b[0m \u001b[0msayHi\u001b[0m\u001b[1;33m(\u001b[0m\u001b[0mself\u001b[0m\u001b[1;33m)\u001b[0m\u001b[1;33m:\u001b[0m\u001b[1;33m\u001b[0m\u001b[0m\n",
      "\u001b[0;31mAssertionError\u001b[0m: Age must be an integer"
     ]
    }
   ],
   "source": [
    "# Go back to the definition from before\n",
    "class person():\n",
    "    def __init__(self, age):\n",
    "        self.age = age\n",
    "    def sayHi(self):\n",
    "        print(\"Hi\")\n",
    "    def tellAge(self):\n",
    "        print(\"I am \" + str(self.age) + \" years old.\")\n",
    "\n",
    "Carl = person(\"Fish\")\n",
    "Carl.tellAge()         # Note that the result does not make sense\n",
    "\n",
    "print(\"\\t\")\n",
    "# Insert assertion onto the function to make sure that it only accepts integer object or attribute\n",
    "class person:\n",
    "    def __init__(self, age):\n",
    "        assert type(age) == int\n",
    "        self.age = age\n",
    "    def sayHi(self):\n",
    "        print(\"Hi\")\n",
    "    def tellAge(self):\n",
    "        print(\"I am \"+ str(self.age) + \" years old.\")\n",
    "    def setAge(self, age):\n",
    "        self.age = age\n",
    "\n",
    "Carl = person(25)\n",
    "Carl.tellAge()        # prints result as it satisfies the assertion condition\n",
    "\n",
    "# Carl = person(\"Fish\")\n",
    "# Carl.tellAge()         # returns error since Fish is a string type\n",
    "\n",
    "\n",
    "print(\"\\t\")\n",
    "class person:\n",
    "    def __init__(self, age):\n",
    "        assert type(age) == int, \"Age must be an integer\"\n",
    "        sel.age = age\n",
    "    def sayHi(self):\n",
    "        print(\"Hi\")\n",
    "    def tellAge(self):\n",
    "        print(\"I am \"+ str(selfage) + \" years old.\")\n",
    "    def setAge(self, age):\n",
    "        self.age = age\n",
    "\n",
    "Carl = person(\"Fish\")\n",
    "Carl.tellAge()"
   ]
  },
  {
   "cell_type": "code",
   "execution_count": 62,
   "metadata": {
    "collapsed": false
   },
   "outputs": [
    {
     "name": "stdout",
     "output_type": "stream",
     "text": [
      "Joe Smith\n"
     ]
    }
   ],
   "source": [
    "# Challenge 2: Add an argument to the constructor that allows you\n",
    "# to give a name to a person. Use an assertion to make sure its\n",
    "# type is a string\n",
    "class person():\n",
    "    def __init__(self, age, name):\n",
    "        assert type(age) == int, \"Age must be an integer\"\n",
    "        assert type(name) == str, \"Name must be a string\"\n",
    "        self.age = age\n",
    "        self.name = name\n",
    "    def sayHi(self):\n",
    "        print(\"Hi\")\n",
    "    def tellAge(self):\n",
    "        print(\"I am \" + str(self.age) + \" years old.\")\n",
    "    def setAge(self, age):\n",
    "        self.age = age\n",
    "    def __str__(self):\n",
    "        return self.name\n",
    "\n",
    "Joe = person(22, \"Joe Smith\")\n",
    "print(Joe)"
   ]
  },
  {
   "cell_type": "code",
   "execution_count": 64,
   "metadata": {
    "collapsed": false
   },
   "outputs": [
    {
     "name": "stdout",
     "output_type": "stream",
     "text": [
      "I'm Joe Smith and go to Harvard.\n",
      "\t\n",
      "I am 25 years old.\n",
      "I'm Joe and go to Harvard.\n"
     ]
    }
   ],
   "source": [
    "# Inheritance allows you to make a class inherits any past functions\n",
    "# attributes and constructor of the class it inherits from. This is \n",
    "# used when you want to create a specific version of your class.\n",
    "\n",
    "# Example: Creating a subclasses of classes by passing the class in \n",
    "# the parentheses of the class definition\n",
    "class student(person):\n",
    "    def collegeTalk(self, college):\n",
    "        print(\"I'm \" + str(self.name) + \" and go to \" + college + \".\")\n",
    "\n",
    "# Note: By putting the person in () for student, you get all the functionality\n",
    "Joe = student(22, \"Joe Smith\")\n",
    "Joe.collegeTalk(\"Harvard\")\n",
    "\n",
    "print(\"\\t\")\n",
    "# Override the constructor if you want a different set of inputs for a student\n",
    "class student(person):\n",
    "    def __init__(self, age, name, college):\n",
    "        super().__init__(age, name)\n",
    "        self.college = college\n",
    "    def collegeTalk(self):\n",
    "        print(\"I'm \" + str(self.name) + \" and go to \" + self.college + \".\")\n",
    "\n",
    "Joe = student(25, \"Joe\", \"Harvard\")\n",
    "Joe.tellAge()\n",
    "Joe.collegeTalk()"
   ]
  },
  {
   "cell_type": "code",
   "execution_count": null,
   "metadata": {
    "collapsed": true
   },
   "outputs": [],
   "source": []
  }
 ],
 "metadata": {
  "kernelspec": {
   "display_name": "Python 3",
   "language": "python",
   "name": "python3"
  },
  "language_info": {
   "codemirror_mode": {
    "name": "ipython",
    "version": 3
   },
   "file_extension": ".py",
   "mimetype": "text/x-python",
   "name": "python",
   "nbconvert_exporter": "python",
   "pygments_lexer": "ipython3",
   "version": "3.6.0"
  }
 },
 "nbformat": 4,
 "nbformat_minor": 2
}

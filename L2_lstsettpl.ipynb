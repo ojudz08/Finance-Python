{
 "cells": [
  {
   "cell_type": "code",
   "execution_count": 1,
   "metadata": {
    "collapsed": false
   },
   "outputs": [
    {
     "name": "stdout",
     "output_type": "stream",
     "text": [
      "[1, 2]\n",
      "[1, 2]\n",
      "1\n",
      "2\n",
      "2\n",
      "[1, 2, 5]\n",
      "[1, 2, 5, 't']\n",
      "[1, 2, 5, 't', [5, 9]]\n",
      "[5, 9]\n",
      "5\n"
     ]
    }
   ],
   "source": [
    "# Lesson 2: Lists, Sets and Tuples\n",
    "\n",
    "# List are data structure that is mutable, ordered sequence of elements\n",
    "\n",
    "# To declare list is enclose items/values in bracket or list()\n",
    "l = [1, 2]\n",
    "l = list(range(1, 3))\n",
    "print(l)\n",
    "print(l)\n",
    "\n",
    "# List indexing works the same way as with strings\n",
    "print(l[0])      # returns 1\n",
    "print(l[1])      # returns 2\n",
    "# print(l[3])      # will give error \"list index out of range\"\n",
    "\n",
    "print(len(l))    # len() function gets the length of the list\n",
    "\n",
    "\n",
    "# .append() function adds a value at the end of the list\n",
    "l.append(5)\n",
    "print(l)\n",
    "\n",
    "# .append() function also works adding a different type of value/variable\n",
    "l.append('t')\n",
    "print(l)\n",
    "\n",
    "# but using .append() function in addting two values isn't allowed\n",
    "# l.append(5, 9)  # append only works for one argument\n",
    "\n",
    "# it works if you add a list at the end of the list but not recommended\n",
    "# as this will add a list or element to a list\n",
    "l.append([5, 9])\n",
    "print(l)\n",
    "print(l[4])        # like if we get index 4, we get the list\n",
    "print(l[4][0])     # for nested lists, you can get element of the list thru index"
   ]
  },
  {
   "cell_type": "code",
   "execution_count": 2,
   "metadata": {
    "collapsed": false
   },
   "outputs": [
    {
     "name": "stdout",
     "output_type": "stream",
     "text": [
      "[1, 2]\n",
      "[1, 2, 5, 9]\n",
      "1\n",
      "2\n",
      "[1, 2]\n",
      "[1, 2, 5, 9]\n"
     ]
    }
   ],
   "source": [
    "# .extend() function solves this by adding elements one by one\n",
    "l = [1, 2]\n",
    "print(l)\n",
    "l.extend([5, 9])\n",
    "print(l)\n",
    "\n",
    "# Recall adding a variable with += operator\n",
    "a = 1\n",
    "print(a)\n",
    "a += 1\n",
    "print(a)\n",
    "\n",
    "# Same applies to lists\n",
    "l = [1, 2]\n",
    "print(l)\n",
    "l += [5, 9]\n",
    "print(l)"
   ]
  },
  {
   "cell_type": "code",
   "execution_count": 3,
   "metadata": {
    "collapsed": false
   },
   "outputs": [
    {
     "name": "stdout",
     "output_type": "stream",
     "text": [
      "[1, 2]\n",
      "[1, 2, 3]\n",
      "[1, 2, 3, 4, 5]\n"
     ]
    }
   ],
   "source": [
    "# Challenge 1\n",
    "# Create a list wiht the elements 1 and 2, then append 3, then append 4 and 5\n",
    "l = [1, 2]\n",
    "print(l)\n",
    "l.append(3)\n",
    "print(l)\n",
    "l.extend([4, 5])\n",
    "print(l)"
   ]
  },
  {
   "cell_type": "code",
   "execution_count": 4,
   "metadata": {
    "collapsed": false
   },
   "outputs": [
    {
     "name": "stdout",
     "output_type": "stream",
     "text": [
      "[1, 2, 4, 5]\n",
      "[1, 2, 3, 4, 5]\n",
      "[1, 2, 100, 4, 5]\n",
      "[1, 2, 4, 5]\n",
      "[1, 2, 4]\n",
      "[2, 4]\n",
      "[]\n"
     ]
    }
   ],
   "source": [
    "# .insert() function allows to insert element on specific index you like\n",
    "l = [1, 2, 4, 5]\n",
    "print(l)\n",
    "l.insert(2, 3)   # this means inserting element 3 in 2nd index\n",
    "print(l)\n",
    "\n",
    "l[2]= 100        # you can also do this one, by assigning a specific index with the value you wanted\n",
    "print(l)\n",
    "\n",
    "\n",
    "# .remove() function allows to remove certain element (not by position)\n",
    "l.remove(100)\n",
    "print(l)\n",
    "\n",
    "\n",
    "# .pop() function removes the last element(unless specified) and returns it\n",
    "l.pop()      # unspecified removes the last element\n",
    "print(l)\n",
    "l.pop(0)     # specifies to remove 1st element\n",
    "print(l)\n",
    "\n",
    "\n",
    "# .clear() function clears the entire list\n",
    "l.clear()\n",
    "print(l)"
   ]
  },
  {
   "cell_type": "code",
   "execution_count": 5,
   "metadata": {
    "collapsed": false
   },
   "outputs": [
    {
     "name": "stdout",
     "output_type": "stream",
     "text": [
      "2\n",
      "100\n",
      "[1, 2, 3, 2, 3]\n",
      "2\n",
      "1\n",
      "0\n"
     ]
    }
   ],
   "source": [
    "# .index() function returns the index of whatever argument we feed\n",
    "l = ['a', 'b', 'c']\n",
    "print(l.index('c'))\n",
    "\n",
    "# Example, find the index of the number 100 in a list, then pop this number and assign it to a variable a\n",
    "l = [1, 2, 3, 100, 2, 3]\n",
    "a = l.pop(l.index(100))\n",
    "print(a)\n",
    "print(l)\n",
    "\n",
    "\n",
    "# .count() function returns the count of whatever argument is given\n",
    "l = ['a', 'a', 'b']\n",
    "print(l.count('a'))\n",
    "print(l.count('b'))\n",
    "print(l.count('c'))    # returns 0 as there are no c found on list"
   ]
  },
  {
   "cell_type": "code",
   "execution_count": 6,
   "metadata": {
    "collapsed": false
   },
   "outputs": [
    {
     "name": "stdout",
     "output_type": "stream",
     "text": [
      "[3, 5, 2, 1, 4]\n",
      "[1, 2, 3, 4, 5]\n",
      "5\n",
      "1\n",
      "5\n",
      "1\n",
      "[5, 4, 3, 2, 1]\n",
      "['a', 'b', 'c', 1, 2, 3]\n",
      "[3, 2, 1, 'c', 'b', 'a']\n"
     ]
    }
   ],
   "source": [
    "# .sort() function sorts the list in place\n",
    "l = [3, 5, 2, 1, 4]\n",
    "print(l)\n",
    "l.sort()\n",
    "print(l)\n",
    "\n",
    "# .sort() function can also be used to find the max or min value\n",
    "l = [3, 5, 2, 1, 4]\n",
    "l.sort()\n",
    "print(l[-1])         # returns the last element which is the max\n",
    "print(l[0])          # returns the 1st lement which is the min\n",
    "\n",
    "# .max() and .min() function\n",
    "print(max(l))\n",
    "print(min(l))\n",
    "\n",
    "# .sort(reverse=True), set when you want to sort in descending order\n",
    "l.sort(reverse=True)\n",
    "print(l)\n",
    "\n",
    "# .reverse() function\n",
    "l = ['a', 'b', 'c', 1, 2, 3]\n",
    "print(l)\n",
    "l.reverse()\n",
    "print(l)"
   ]
  },
  {
   "cell_type": "code",
   "execution_count": 7,
   "metadata": {
    "collapsed": false
   },
   "outputs": [
    {
     "name": "stdout",
     "output_type": "stream",
     "text": [
      "[1, 2, 3, 4, 1, 2, 3, 4]\n"
     ]
    }
   ],
   "source": [
    "# Example of getting every number in a list two times\n",
    "# Note: Multiplying the list by a number replicates each numbers\n",
    "l = [1, 2, 3, 4]\n",
    "print(l*2)"
   ]
  },
  {
   "cell_type": "code",
   "execution_count": 8,
   "metadata": {
    "collapsed": false
   },
   "outputs": [
    {
     "name": "stdout",
     "output_type": "stream",
     "text": [
      "[1, 2, 3, 4]\n",
      "[2, 4, 6, 8]\n",
      "1\n",
      "3\n",
      "[1, 2, 0, 1]\n",
      "[1, 3]\n",
      "[2, 4]\n",
      "[0, 2, 3, 8, 15]\n",
      "[0, 0, 0, 8, 15]\n"
     ]
    }
   ],
   "source": [
    "# List comprehension is a method that allows to put expression or function that works on a list\n",
    "# Format works like this [f(x) for x in list], this means that every x element needs to satisfy or the function f(x)\n",
    "# Example\n",
    "l = [1, 2, 3, 4]\n",
    "print(l)\n",
    "l = [x*2 for x in l]\n",
    "print(l)\n",
    "\n",
    "\n",
    "# Modulo operator %, another functionality in python which is helpful\n",
    "print(4%3)\n",
    "print(7%4)\n",
    "\n",
    "# Example: Getting the remainder of all numbers in a list is divided by 3\n",
    "l = [1, 2, 3, 4]\n",
    "print([x%3 for x in l])\n",
    "\n",
    "# An if statement can also be added to filter the list\n",
    "# Example: Print the element that are odd or even\n",
    "l = [1, 2, 3, 4]\n",
    "print([x for x in l if x%2==1])    # for odd\n",
    "print([x for x in l if x%2==0])    # for even\n",
    "\n",
    "\n",
    "# zip() function allows you to perform the operational function on more than two lists\n",
    "# Note: Make sure that lists have the same size\n",
    "l1 = [1, 2, 3, 4, 5]        # numerical\n",
    "l2 = [0, 1, 1, 2, 3]        # fibonacci number/s\n",
    "l3 = [0, 0, 0, 1, 1]\n",
    "print([x*y for x,y in zip(l1, l2)])             # two lists involved\n",
    "print([x*y*z for x,y,z in zip(l1, l2, l3)])     # three lists involved"
   ]
  },
  {
   "cell_type": "code",
   "execution_count": 9,
   "metadata": {
    "collapsed": false,
    "scrolled": true
   },
   "outputs": [
    {
     "name": "stdout",
     "output_type": "stream",
     "text": [
      "[[1, 2], [3, 4]]\n",
      "[1, 2]\n",
      "1\n"
     ]
    }
   ],
   "source": [
    "# Nest lists within a lists\n",
    "l = [[1, 2], [3, 4]]\n",
    "print(l)\n",
    "\n",
    "# Indexing a nested list does not work the same way as list, getting index 0 returns the first list\n",
    "print(l[0])\n",
    "\n",
    "# If you want to get the 1st element of the 1st list, you need to index it on which row and column\n",
    "print(l[0][0])"
   ]
  },
  {
   "cell_type": "code",
   "execution_count": 10,
   "metadata": {
    "collapsed": false
   },
   "outputs": [
    {
     "name": "stdout",
     "output_type": "stream",
     "text": [
      "4\n",
      "[1, 2, 3, 4, 5, 6, 7, 8, 9, 10]\n",
      "[1, 4, 9, 16, 25, 36, 49, 64, 81, 100]\n"
     ]
    }
   ],
   "source": [
    "# Challenge 1: Get the second element of the second list\n",
    "l = [[1, 2], [3, 4]]\n",
    "print(l[1][1])\n",
    "\n",
    "# Challenge 2: Make a list of the numbers 1-10, then using list comprehension transform it into a list of the squared values\n",
    "l = list(range(1, 11))\n",
    "print(l)\n",
    "print([x**2 for x in l])"
   ]
  },
  {
   "cell_type": "code",
   "execution_count": 11,
   "metadata": {
    "collapsed": false
   },
   "outputs": [
    {
     "name": "stdout",
     "output_type": "stream",
     "text": [
      "(1, 1)\n",
      "2\n",
      "0\n",
      "1\n"
     ]
    }
   ],
   "source": [
    "# Tuple are non-mutable, less flexible data structure\n",
    "\n",
    "# To declare a tuple, enclosed it in a parenthesis () or tuple()\n",
    "\n",
    "t = (1, 1)\n",
    "print(t)\n",
    "# t[1] = 0    # returns error since tuple can't be modified\n",
    "\n",
    "# Functions that also work with tuples\n",
    "print(t.count(1))       # .count() function\n",
    "print(t.index(1))       # .index() function\n",
    "print(t[0])             # indexing"
   ]
  },
  {
   "cell_type": "code",
   "execution_count": 12,
   "metadata": {
    "collapsed": false
   },
   "outputs": [
    {
     "name": "stdout",
     "output_type": "stream",
     "text": [
      "{1, 2, 3}\n",
      "{1, 2, 3}\n",
      "{0, 1, 2, 3}\n",
      "{0, 1, 2, 3, 4}\n",
      "{2}\n",
      "{2}\n",
      "False\n",
      "False\n",
      "False\n",
      "True\n",
      "{0}\n",
      "True\n"
     ]
    }
   ],
   "source": [
    "# Sets are similar to lists and tuple, except they hold unique values\n",
    "\n",
    "# To declare a tuple, enclosed it in a bracket {} or set()\n",
    "s = {1, 2, 3}\n",
    "print(s)\n",
    "l = [1, 1, 1, 2, 2, 3]\n",
    "s = set(l)\n",
    "print(s)                  # it will return unique values of list l\n",
    "\n",
    "\n",
    "# .union() function is works for sets that allow findinding all unique elements between two or multiple sets\n",
    "s1 = {0, 2}\n",
    "s2 = {1, 2, 3}\n",
    "s3 = {1, 2, 3, 4}\n",
    "print(s1.union(s2))         # involves two sets\n",
    "print(s1.union(s2, s3))     # involves three sets\n",
    "\n",
    "# .union() does not work in list and tuple, you'll encounter error 'object has no attribute union'\n",
    "# l1 = [1, 2]\n",
    "# l2 = [2, 3]\n",
    "# print(l1.union(l2))\n",
    "# t1 = tuple(l1)\n",
    "# t2 = tuple(l2)\n",
    "# print(t1.union(t2))\n",
    "\n",
    "# .intersection() function also works with sets that returns the unique value in all sets\n",
    "print(s1.intersection(s2))\n",
    "print(s1.intersection(s2, s3))\n",
    "\n",
    "# .isdisjoint() function finds where sets overlap\n",
    "print(s1.isdisjoint(s2))    # returns False since s1 & s2 have overlapping element 2\n",
    "print(s2.isdisjoint(s3))    # returns False since s2 & s3 have overlapping elements 1, 2 & 3\n",
    "print(s1.isdisjoint(s3))    # returns False since s1 & s3 have overlapping element 2\n",
    "s4 = {5, 6, 7, 8}\n",
    "print(s3.isdisjoint(s4))    # returns True since s3 & s4 have no overlappign element\n",
    "\n",
    "# .remove() function remove elements\n",
    "s1.remove(2)                # removing element 2\n",
    "print(s1)\n",
    "print(s1.isdisjoint(s2))    # returns True, no more overlapping element between s1 & s2"
   ]
  },
  {
   "cell_type": "code",
   "execution_count": null,
   "metadata": {
    "collapsed": true
   },
   "outputs": [],
   "source": []
  }
 ],
 "metadata": {
  "kernelspec": {
   "display_name": "Python 3",
   "language": "python",
   "name": "python3"
  },
  "language_info": {
   "codemirror_mode": {
    "name": "ipython",
    "version": 3
   },
   "file_extension": ".py",
   "mimetype": "text/x-python",
   "name": "python",
   "nbconvert_exporter": "python",
   "pygments_lexer": "ipython3",
   "version": "3.6.0"
  }
 },
 "nbformat": 4,
 "nbformat_minor": 2
}

{
 "cells": [
  {
   "cell_type": "code",
   "execution_count": 14,
   "metadata": {
    "collapsed": false
   },
   "outputs": [
    {
     "name": "stdout",
     "output_type": "stream",
     "text": [
      "True\n",
      "1\n",
      "False\n",
      "0\n",
      "\n",
      "\n",
      "True\n",
      "False\n",
      "True\n",
      "True\n",
      "\n",
      "\n",
      "True\n",
      "True\n",
      "True\n",
      "False\n",
      "False\n",
      "True\n",
      "\n",
      "\n",
      "Success\n",
      "Not\n",
      "\n",
      "True\n"
     ]
    }
   ],
   "source": [
    "# if statement is an argument to satisfy one or multiple condition/s\n",
    "\n",
    "# Boolean values - representation of \"True (1)\" or \"False (0)\"\n",
    "a = True\n",
    "print(a)\n",
    "print(int(a))\n",
    "b = False\n",
    "print(b)\n",
    "print(int(b))\n",
    "print(\"\\n\")\n",
    "\n",
    "# Another way to get boolean value is comparing two int or string\n",
    "print(5 == 5)\n",
    "print(5 == 0)\n",
    "print(\"a\" == \"a\")\n",
    "print(\"b\" == \"b\")\n",
    "print(\"\\n\")\n",
    "\n",
    "# or any variable which has the same value\n",
    "a = 5\n",
    "print(a == 5)\n",
    "\n",
    "# Other ways to compare boolean using != < >\n",
    "print(6 != 5)\n",
    "print(5 >= 5)\n",
    "print(5 <= 4)\n",
    "print(5 > 5)\n",
    "print(3 < 4)\n",
    "print(\"\\n\")\n",
    "\n",
    "\n",
    "# If statement works if the argument stated holds True\n",
    "if True:\n",
    "    print(\"Success\")\n",
    "\n",
    "if False:\n",
    "    print(\"Success\")     # Nothing prints\n",
    "    \n",
    "# Anything outside of an if statement still executes\n",
    "if False:\n",
    "    print(\"Success\")\n",
    "print(\"Not\")\n",
    "\n",
    "# If statement based on equations\n",
    "a = 5\n",
    "if a == 5:\n",
    "    print(\"\\nTrue\")"
   ]
  },
  {
   "cell_type": "code",
   "execution_count": 15,
   "metadata": {
    "collapsed": false
   },
   "outputs": [
    {
     "name": "stdout",
     "output_type": "stream",
     "text": [
      "It's 10\n"
     ]
    }
   ],
   "source": [
    "# Challenge 1: Create a variable equal to 10, and an if statement that says if the variable divided by 5 is 2, then print \"It's 10\"\n",
    "a = 10\n",
    "if a/5 == 2:\n",
    "    print(\"It's 10\")"
   ]
  },
  {
   "cell_type": "code",
   "execution_count": 21,
   "metadata": {
    "collapsed": false
   },
   "outputs": [
    {
     "name": "stdout",
     "output_type": "stream",
     "text": [
      "Less than 10\n",
      "Less than 8\n",
      "Less than 10\n"
     ]
    }
   ],
   "source": [
    "# Nested if statement - an if statement inside if statement\n",
    "a = 5\n",
    "if a < 10:\n",
    "    print(\"Less than 10\")\n",
    "    if a < 8:\n",
    "        print(\"Less than 8\")\n",
    "\n",
    "# Let a = 9, only the first argument will be printed\n",
    "a = 9\n",
    "if a < 10:\n",
    "    print(\"Less than 10\")\n",
    "    if a < 8:\n",
    "        print(\"Less than 8\")\n",
    "        \n",
    "# Another example of if statement, returns nothing since 1st if statement is False\n",
    "a = 8\n",
    "if a == 10:\n",
    "    print(\"Equals 10\")\n",
    "    if a == 8:\n",
    "        print(\"Equals 8\")"
   ]
  },
  {
   "cell_type": "code",
   "execution_count": 22,
   "metadata": {
    "collapsed": false
   },
   "outputs": [
    {
     "name": "stdout",
     "output_type": "stream",
     "text": [
      "Else Statement\n"
     ]
    }
   ],
   "source": [
    "# If else statement - satisfy the 2nd argument in else statement when 1st statement holds False\n",
    "a = 5\n",
    "if a == 6:\n",
    "    print(\"If Statement\")\n",
    "else:\n",
    "    print(\"Else Statement\")"
   ]
  },
  {
   "cell_type": "code",
   "execution_count": 25,
   "metadata": {
    "collapsed": false
   },
   "outputs": [
    {
     "name": "stdout",
     "output_type": "stream",
     "text": [
      "Meh\n",
      "Bad\n"
     ]
    }
   ],
   "source": [
    "# If elif else statement - checks other argument/conditions if the previous argument holds False\n",
    "a = 6\n",
    "if a == 5:\n",
    "    print(\"Good\")\n",
    "elif a == 6:\n",
    "    print(\"Meh\")\n",
    "else:\n",
    "    print(\"Bad\")\n",
    "    \n",
    "# Stacking if elif else statement\n",
    "a = 10\n",
    "if a == 5:\n",
    "    print(\"Good\")\n",
    "elif a == 6:\n",
    "    print(\"Meh\")\n",
    "elif a == 10:\n",
    "    print(\"Bad\")\n",
    "    \n",
    "\n",
    "# Some cases will return nothing if all arguments/conditions hold False\n",
    "a = 11\n",
    "if a == 5:\n",
    "    print(\"Good\")\n",
    "elif a == 6:\n",
    "    print(\"Meh\")\n",
    "elif a == 10:\n",
    "    print(\"Bad\")"
   ]
  },
  {
   "cell_type": "code",
   "execution_count": 28,
   "metadata": {
    "collapsed": false
   },
   "outputs": [
    {
     "name": "stdout",
     "output_type": "stream",
     "text": [
      "True\n",
      "True\n",
      "True\n",
      "False\n",
      "True\n",
      "True\n",
      "\n",
      "\n",
      "True\n",
      "False\n",
      "False\n",
      "False\n",
      "False\n",
      "False\n"
     ]
    }
   ],
   "source": [
    "# And/Or Statements is very helpful in constructing if statements which allows us to check if any of the statements is True or both are True\n",
    "print(True or True)         # returns True\n",
    "print(False or True)        # returns True\n",
    "print(True or False)        # returns True\n",
    "print(False or False)       # returns False\n",
    "print(5 > 6 or 5 < 6)       # returns True\n",
    "print(False or 5 == 5)      # returns True      \n",
    "print(\"\\n\")\n",
    "print(True and True)        # returns True\n",
    "print(False and True)       # returns False\n",
    "print(True and False)       # returns False\n",
    "print(False and False)      # returns False\n",
    "print(5 > 6 and 5 < 6)      # returns False\n",
    "print(False and 5 == 5)     # returns False"
   ]
  },
  {
   "cell_type": "code",
   "execution_count": null,
   "metadata": {
    "collapsed": true
   },
   "outputs": [],
   "source": []
  }
 ],
 "metadata": {
  "kernelspec": {
   "display_name": "Python 3",
   "language": "python",
   "name": "python3"
  },
  "language_info": {
   "codemirror_mode": {
    "name": "ipython",
    "version": 3
   },
   "file_extension": ".py",
   "mimetype": "text/x-python",
   "name": "python",
   "nbconvert_exporter": "python",
   "pygments_lexer": "ipython3",
   "version": "3.6.0"
  }
 },
 "nbformat": 4,
 "nbformat_minor": 2
}

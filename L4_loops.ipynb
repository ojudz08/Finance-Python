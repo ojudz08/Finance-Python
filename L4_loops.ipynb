{
 "cells": [
  {
   "cell_type": "code",
   "execution_count": 1,
   "metadata": {
    "collapsed": false
   },
   "outputs": [
    {
     "name": "stdout",
     "output_type": "stream",
     "text": [
      "0\n",
      "1\n",
      "2\n",
      "3\n",
      "4\n",
      "\t\n",
      "0\n",
      "2\n",
      "4\n",
      "6\n",
      "8\n",
      "\t\n",
      "0\n",
      "2\n",
      "4\n",
      "6\n",
      "8\n",
      "\t\n",
      "First: 0, Last: 0\n",
      "First: 0, Last: 1\n",
      "First: 0, Last: 2\n",
      "First: 0, Last: 3\n",
      "First: 0, Last: 4\n",
      "First: 1, Last: 0\n",
      "First: 1, Last: 1\n",
      "First: 1, Last: 2\n",
      "First: 1, Last: 3\n",
      "First: 1, Last: 4\n",
      "First: 2, Last: 0\n",
      "First: 2, Last: 1\n",
      "First: 2, Last: 2\n",
      "First: 2, Last: 3\n",
      "First: 2, Last: 4\n",
      "First: 3, Last: 0\n",
      "First: 3, Last: 1\n",
      "First: 3, Last: 2\n",
      "First: 3, Last: 3\n",
      "First: 3, Last: 4\n",
      "First: 4, Last: 0\n",
      "First: 4, Last: 1\n",
      "First: 4, Last: 2\n",
      "First: 4, Last: 3\n",
      "First: 4, Last: 4\n",
      "\t\n",
      "0\n",
      "1\n",
      "2\n",
      "\t\n",
      "First: 0, Last: 0\n",
      "First: 0, Last: 1\n",
      "First: 0, Last: 2\n",
      "First: 1, Last: 0\n",
      "First: 1, Last: 1\n",
      "First: 1, Last: 2\n",
      "First: 2, Last: 0\n",
      "First: 2, Last: 1\n",
      "First: 2, Last: 2\n",
      "First: 3, Last: 0\n",
      "First: 3, Last: 1\n",
      "First: 3, Last: 2\n",
      "First: 4, Last: 0\n",
      "First: 4, Last: 1\n",
      "First: 4, Last: 2\n",
      "\t\n",
      "0\n",
      "XX\n",
      "1\n",
      "XX\n",
      "2\n",
      "XX\n",
      "3\n",
      "4\n",
      "5\n",
      "6\n",
      "7\n",
      "8\n",
      "9\n"
     ]
    }
   ],
   "source": [
    "# A loop allows us to repeat multiple conditions. Can be used to iterate through lists or other iterables\n",
    "\n",
    "# for loop starts with \"for i in x\" where i is the beginning of the loop and x is the range at which the argument or condition loops\n",
    "for i in range(0, 5):\n",
    "    print(i)            # i starts from 0, so the loops returns 0-4\n",
    "\n",
    "print(\"\\t\")\n",
    "\n",
    "# Print the value times 2\n",
    "for i in range(0, 5):\n",
    "    print(i*2)\n",
    "    \n",
    "print(\"\\t\")\n",
    "\n",
    "# Setting i equal to a value won't mess up the loop sequence\n",
    "for i in range(0, 5):\n",
    "    i = i*2\n",
    "    print(i)\n",
    "\n",
    "print(\"\\t\")\n",
    "\n",
    "# loops within loops, once outter loop executes, inner loops are then executed first, then it will eventually called out after outter loop is executed\n",
    "for i in range(0, 5):\n",
    "    for j in range(0, 5):\n",
    "        print(\"First: \"+ str(i) +\", Last: \"+ str(j))\n",
    "\n",
    "print(\"\\t\")\n",
    "\n",
    "# break statement stops the loop when you want to terminate loop for a certain condition\n",
    "for x in range(5):\n",
    "    print(x)\n",
    "    if x == 2:\n",
    "        break\n",
    "\n",
    "print(\"\\t\")\n",
    "\n",
    "# break call within a loop\n",
    "for i in range(0, 5):\n",
    "    for j in range(0, 5):\n",
    "        print(\"First: \"+ str(i) +\", Last: \"+ str(j))\n",
    "        if j == 2:\n",
    "            break\n",
    "\n",
    "print(\"\\t\")            \n",
    "        \n",
    "# continue statement is used if you want to skip the rest of the code once condition is met\n",
    "for x in range(0, 10):\n",
    "    print(x)\n",
    "    if x > 2:\n",
    "        continue\n",
    "    print(\"XX\")\n"
   ]
  },
  {
   "cell_type": "code",
   "execution_count": 2,
   "metadata": {
    "collapsed": false
   },
   "outputs": [
    {
     "name": "stdout",
     "output_type": "stream",
     "text": [
      "0\n",
      "2\n",
      "4\n",
      "6\n"
     ]
    }
   ],
   "source": [
    "# Challenge 1: Use a loop to print out even numbers, up to the numbers 6 with a range at 11\n",
    "for x in range(0, 11):\n",
    "    if x%2 == 0:\n",
    "        print(x)\n",
    "    if x >= 6:\n",
    "        break"
   ]
  },
  {
   "cell_type": "code",
   "execution_count": 3,
   "metadata": {
    "collapsed": false
   },
   "outputs": [
    {
     "name": "stdout",
     "output_type": "stream",
     "text": [
      "1\n",
      "5\n",
      "10\n",
      "20\n",
      "\t\n",
      "2\n",
      "12\n",
      "30\n",
      "\t\n",
      "[1, 2, 3]\n",
      "[4, 5, 6]\n",
      "[7, 8, 9]\n",
      "\t\n",
      "1\n",
      "2\n",
      "3\n",
      "4\n",
      "5\n",
      "6\n",
      "7\n",
      "8\n",
      "9\n"
     ]
    }
   ],
   "source": [
    "# Iterate through a list instead of range(), just replace it with a  list\n",
    "l = [1, 5, 10, 20]\n",
    "for x in l:\n",
    "    print(x)\n",
    "\n",
    "print(\"\\t\")\n",
    "    \n",
    "# using zip() function, you can use it in a loop statement\n",
    "l1 = [1, 2, 3]\n",
    "l2 = [2, 6, 10]\n",
    "for x,y in zip(l1, l2):\n",
    "    print(x*y)\n",
    "\n",
    "print(\"\\t\")\n",
    "\n",
    "# iterating through a list of lists\n",
    "l = [[1, 2, 3], [4, 5, 6], [7, 8, 9]]\n",
    "for x in l:\n",
    "    print(x)\n",
    "\n",
    "print(\"\\t\")\n",
    "\n",
    "# use two loops to iterate individual elements in the nested list\n",
    "for x in l:\n",
    "    for y in x:\n",
    "        print(y)\n"
   ]
  },
  {
   "cell_type": "code",
   "execution_count": 4,
   "metadata": {
    "collapsed": false
   },
   "outputs": [
    {
     "name": "stdout",
     "output_type": "stream",
     "text": [
      "15\n",
      "\t\n",
      "0\n",
      "2\n",
      "4\n",
      "6\n",
      "8\n",
      "The total is: 20\n"
     ]
    }
   ],
   "source": [
    "# Loop application\n",
    "# Example 1: Summing all elements in a list\n",
    "total = 0     # declare the variable, initialize\n",
    "l = [1, 2, 3, 4, 5]\n",
    "for x in l:    \n",
    "    total += x\n",
    "print(total)\n",
    "\n",
    "print(\"\\t\")\n",
    "\n",
    "# Example 2: Get the sum of even numbers\n",
    "total = 0     # declare the variable, initialize\n",
    "for x in range(10):\n",
    "    if x%2 == 1:\n",
    "        continue\n",
    "    print(x)\n",
    "    total += x\n",
    "print(\"The total is: \"+str(total))"
   ]
  },
  {
   "cell_type": "code",
   "execution_count": 17,
   "metadata": {
    "collapsed": false
   },
   "outputs": [
    {
     "name": "stdout",
     "output_type": "stream",
     "text": [
      "Count of 1: 3\n",
      "Count of 2: 2\n",
      "Count of 3: 2\n",
      "Count of 4: 1\n",
      "Count of 5: 2\n",
      "Count of 7: 1\n",
      "Count of 8: 5\n"
     ]
    }
   ],
   "source": [
    "# Challenge 2: Use a loop to find the counts of each unique element in the following list\n",
    "l = [1, 1, 1, 2, 2, 3, 4, 3, 5, 7, 8, 5, 8, 8, 8, 8]\n",
    "a = set(l)\n",
    "for x in a:\n",
    "    print(\"Count of \"+ str(x) + \": \"+ str(l.count(x)))"
   ]
  },
  {
   "cell_type": "code",
   "execution_count": 10,
   "metadata": {
    "collapsed": false
   },
   "outputs": [
    {
     "name": "stdout",
     "output_type": "stream",
     "text": [
      "0\n",
      "1\n",
      "2\n",
      "3\n",
      "4\n",
      "\t\n",
      "2\n",
      "3\n",
      "4\n",
      "5\n",
      "6\n",
      "\t\n",
      "[0, 1, 2, 3, 4, 5, 6, 7, 8, 9]\n",
      "\t\n",
      "[0, 2, 4, 6, 8]\n",
      "[0, 3, 6, 9]\n"
     ]
    }
   ],
   "source": [
    "# While loop repeat the line of codes until the condition is satisfied\n",
    "# Example 1: Printing i until i < 5\n",
    "i = 0\n",
    "while i < 5:\n",
    "    print(i)\n",
    "    i += 1\n",
    "\n",
    "print(\"\\t\")\n",
    "\n",
    "# Example 2: Print numbers until i reaches a number divisible by 6\n",
    "i = 1\n",
    "while i%6 != 0:\n",
    "    i += 1\n",
    "    print(i)\n",
    "\n",
    "print(\"\\t\")\n",
    "    \n",
    "# Converting a range into a list\n",
    "print(list(range(10)))\n",
    "\n",
    "print(\"\\t\")\n",
    "\n",
    "# Converting a range into a list, adding steps\n",
    "print(list(range(0, 10, 2)))\n",
    "print(list(range(0, 10, 3)))"
   ]
  },
  {
   "cell_type": "code",
   "execution_count": null,
   "metadata": {
    "collapsed": true
   },
   "outputs": [],
   "source": []
  },
  {
   "cell_type": "code",
   "execution_count": null,
   "metadata": {
    "collapsed": true
   },
   "outputs": [],
   "source": []
  }
 ],
 "metadata": {
  "kernelspec": {
   "display_name": "Python 3",
   "language": "python",
   "name": "python3"
  },
  "language_info": {
   "codemirror_mode": {
    "name": "ipython",
    "version": 3
   },
   "file_extension": ".py",
   "mimetype": "text/x-python",
   "name": "python",
   "nbconvert_exporter": "python",
   "pygments_lexer": "ipython3",
   "version": "3.6.0"
  }
 },
 "nbformat": 4,
 "nbformat_minor": 2
}

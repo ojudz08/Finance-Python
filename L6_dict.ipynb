{
 "cells": [
  {
   "cell_type": "code",
   "execution_count": 21,
   "metadata": {
    "collapsed": false
   },
   "outputs": [
    {
     "name": "stdout",
     "output_type": "stream",
     "text": [
      "{'First': 'John', 'Last': 'Doe'}\n",
      "John\n",
      "Doe\n",
      "\t\n",
      "{'First': 'John', 'Last': 'Doe', 'Middle': 'Edgar'}\n",
      "Edgar\n",
      "\t\n",
      "dict_values(['John', 'Doe', 'Edgar'])\n",
      "\t\n",
      "{'First': 'John', 'Last': 'Doe'}\n",
      "\t\n",
      "2\n",
      "False\n",
      "False\n",
      "True\n"
     ]
    }
   ],
   "source": [
    "# Dictionaries are key-value pair allowing us to map values\n",
    "# Useful in mapping one set of values to another set of values\n",
    "# Similar structure as vlookup in excel\n",
    "\n",
    "# To create a dictionary, enclose it in a bracket {} or dict()\n",
    "name = {\"First\":\"John\", \"Last\":\"Doe\"}\n",
    "print(name)\n",
    "print(name[\"First\"])   # returns the value \"John\"\n",
    "print(name[\"Last\"])    # returns the value \"Doe\"\n",
    "# print(name[\"Middle\"])  # error appears as there is no \"Middle\" key on the dictionary\n",
    "\n",
    "\n",
    "print(\"\\t\")\n",
    "\n",
    "# Setting value for a key\n",
    "name[\"Middle\"] = \"Edgar\"\n",
    "print(name)\n",
    "print(name[\"Middle\"])\n",
    "\n",
    "\n",
    "print(\"\\t\")\n",
    "\n",
    "# .values() function\n",
    "print(name.values())\n",
    "\n",
    "print(\"\\t\")\n",
    "# del function deletes the key/value pair\n",
    "del name[\"Middle\"]\n",
    "print(name)\n",
    "\n",
    "print(\"\\t\")\n",
    "# using len() function on dictionaries returns the length of key-value pair\n",
    "print(len(name))\n",
    "\n",
    "print(\"\\t\")\n",
    "# using \"in\" will help you check key in dictionary\n",
    "print(\"Middle\" in name)         # returns False since \"Middle\" key is already deleted\n",
    "print(\"John\" in name)           # still returns False since \"John\" is not a key but a value of key \"First\"\n",
    "print(\"John\" in name.values())  # returns True since \"John\" is a value in name"
   ]
  },
  {
   "cell_type": "code",
   "execution_count": 24,
   "metadata": {
    "collapsed": false
   },
   "outputs": [
    {
     "name": "stdout",
     "output_type": "stream",
     "text": [
      "John\n",
      "Key is not in dictionary or in values\n",
      "John\n",
      "First\n",
      "Last\n",
      "\t\n",
      "John\n",
      "Doe\n"
     ]
    }
   ],
   "source": [
    "# Challenge 1: Create a function which prints a key's value if it's\n",
    "# in the keys or if it's in the values of a dictionary just prints \n",
    "# the word. Take a dictionary and a word as arguments and if it is\n",
    "# not in the dictionary print that it is not.\n",
    "\n",
    "def dict(d,k):\n",
    "    if k in d:\n",
    "        print(d[k])\n",
    "    elif k in d.values():\n",
    "        print(k)\n",
    "    else:\n",
    "        print(\"Key is not in dictionary or in values\")\n",
    "        \n",
    "dict(name, \"First\")\n",
    "dict(name, \"Middle\")\n",
    "dict(name, \"John\")\n",
    "\n",
    "# fist solution\n",
    "name = {\"First\":\"John\", \"Last\":\"Doe\"}\n",
    "for x in name:\n",
    "    print(x)\n",
    "    \n",
    "print(\"\\t\")\n",
    "# second solution\n",
    "for x in name:\n",
    "    print(name[x])\n"
   ]
  },
  {
   "cell_type": "code",
   "execution_count": 25,
   "metadata": {
    "collapsed": false
   },
   "outputs": [
    {
     "name": "stdout",
     "output_type": "stream",
     "text": [
      "{('John', 'Doe'): 'A', ('Mary', 'Smith'): 'B+'}\n",
      "A\n"
     ]
    }
   ],
   "source": [
    "# Using more complex keys and values, like tuple for a key\n",
    "grades = {}\n",
    "grades[(\"John\", \"Doe\")] = \"A\"\n",
    "grades[(\"Mary\", \"Smith\")] = \"B+\"\n",
    "print(grades)\n",
    "print(grades[\"John\", \"Doe\"])"
   ]
  },
  {
   "cell_type": "code",
   "execution_count": null,
   "metadata": {
    "collapsed": true
   },
   "outputs": [],
   "source": []
  }
 ],
 "metadata": {
  "kernelspec": {
   "display_name": "Python 3",
   "language": "python",
   "name": "python3"
  },
  "language_info": {
   "codemirror_mode": {
    "name": "ipython",
    "version": 3
   },
   "file_extension": ".py",
   "mimetype": "text/x-python",
   "name": "python",
   "nbconvert_exporter": "python",
   "pygments_lexer": "ipython3",
   "version": "3.6.0"
  }
 },
 "nbformat": 4,
 "nbformat_minor": 2
}

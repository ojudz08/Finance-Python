{
 "cells": [
  {
   "cell_type": "code",
   "execution_count": 13,
   "metadata": {
    "collapsed": false
   },
   "outputs": [
    {
     "name": "stdout",
     "output_type": "stream",
     "text": [
      "Hello World\n",
      "Hi\n",
      "Something\n",
      "\t\n",
      "3\n",
      "3\n"
     ]
    }
   ],
   "source": [
    "# Functions are used to do certain condition and return value. In this way, you won't need to copy paste codes every time you need to use them\n",
    "\n",
    "# Function format\n",
    "# def function_name():\n",
    "#     condition/argument here\n",
    "\n",
    "def sayHi():              # declaring/creating function\n",
    "    print(\"Hello World\")\n",
    "\n",
    "sayHi()                   # calling this function will return Hello World\n",
    "\n",
    "# Functions with argument/s\n",
    "def saySomething(word):\n",
    "    print(word)\n",
    "\n",
    "saySomething(\"Hi\")\n",
    "saySomething(\"Something\")\n",
    "\n",
    "print(\"\\t\")\n",
    "\n",
    "# More than one argument inside a function\n",
    "def add(a, b):\n",
    "    print(a + b)\n",
    "add(1, 2)\n",
    "\n",
    "# return statement is used to get the variable back from a function\n",
    "def add(a, b):\n",
    "    return a + b\n",
    "c = add(1, 2)\n",
    "print(c)\n",
    "\n"
   ]
  },
  {
   "cell_type": "code",
   "execution_count": 14,
   "metadata": {
    "collapsed": false
   },
   "outputs": [
    {
     "name": "stdout",
     "output_type": "stream",
     "text": [
      "a is lesser than b\n",
      "a is greater than b\n",
      "a and b are equal\n"
     ]
    }
   ],
   "source": [
    "# Challenge 1: Create a function that given a and b prints out whether a is greater than b, b greater than a or a and b is equal\n",
    "def compare(a, b):\n",
    "    if a > b:\n",
    "        print(\"a is greater than b\")\n",
    "    elif a < b:\n",
    "        print(\"a is lesser than b\")\n",
    "    else:\n",
    "        print(\"a and b are equal\")\n",
    "\n",
    "compare(1, 2)\n",
    "compare(2, 1)\n",
    "compare(1, 1)"
   ]
  },
  {
   "cell_type": "code",
   "execution_count": 8,
   "metadata": {
    "collapsed": false
   },
   "outputs": [
    {
     "name": "stdout",
     "output_type": "stream",
     "text": [
      "10\n",
      "5\n",
      "\t\n",
      "4\n",
      "6\n",
      "\t\n",
      "4\n",
      "4\n",
      "4\n",
      "\t\n",
      "4\n",
      "8\n",
      "16\n",
      "\t\n",
      "[2, 2, 3]\n",
      "[4, 2, 3]\n",
      "[8, 2, 3]\n",
      "t\n",
      "[2, 2, 3]\n",
      "[2, 2, 3]\n",
      "[2, 2, 3]\n"
     ]
    }
   ],
   "source": [
    "# Return more than one element through comma separation\n",
    "def switch(a, b):\n",
    "    return b, a\n",
    "\n",
    "a = 5\n",
    "b = 10\n",
    "a, b = switch(a, b)\n",
    "print(a)\n",
    "print(b)\n",
    "\n",
    "print(\"\\t\")\n",
    "\n",
    "\n",
    "# Default values are given values to varialbes if there is/are no other values so it is set to default values\n",
    "def multiply(a, b=2):\n",
    "    return a*b\n",
    "\n",
    "print(multiply(2))     # returns 4 since b's default value is 2\n",
    "print(multiply(2,3))   # a=2, b=3, returns 6\n",
    "\n",
    "print(\"\\t\")\n",
    "\n",
    "\n",
    "# Arguments or variables inside the function will not be modified outside the function\n",
    "def double(a):\n",
    "    a = a*2\n",
    "    print(a)\n",
    "\n",
    "a = 2\n",
    "double(a)\n",
    "double(a)\n",
    "double(a)\n",
    "\n",
    "print(\"\\t\")\n",
    "\n",
    "# Set it equal to the returned value\n",
    "def double(a):\n",
    "    a = a*2\n",
    "    return a\n",
    "\n",
    "a = 2\n",
    "a = double(a)\n",
    "print(a)\n",
    "a = double(a)\n",
    "print(a)\n",
    "a = double(a)\n",
    "print(a)\n",
    "\n",
    "print(\"\\t\")\n",
    "\n",
    "# List can be modified outside of the function if you give it as an argument\n",
    "def double(l):\n",
    "    l[0] = l[0]*2\n",
    "    print(l)\n",
    "\n",
    "l = [1, 2, 3]\n",
    "double(l)\n",
    "double(l)\n",
    "double(l)\n",
    "\n",
    "print(\"t\")\n",
    "\n",
    "# To fix this, give a copy of a list or a slice of a list\n",
    "l = [1, 2, 3]\n",
    "double(l[:])\n",
    "double(l[:])\n",
    "double(l[:])"
   ]
  },
  {
   "cell_type": "code",
   "execution_count": 30,
   "metadata": {
    "collapsed": false
   },
   "outputs": [
    {
     "name": "stdout",
     "output_type": "stream",
     "text": [
      "[3, 6, 9, 12, 15, 16, 17, 20, 22, 25]\n",
      "[9, 36, 81, 144, 225, 256, 289]\n",
      "[81]\n"
     ]
    }
   ],
   "source": [
    "# Challenge 2: Create a function that squares each number in a list then filters it to be only value less than 300. Use a while loop to continue d this until the list is empty.\n",
    "def square(l):\n",
    "    for i in range(0, len(l)):\n",
    "        l[i] = l[i]**2\n",
    "\n",
    "\n",
    "l = [3, 6, 9, 12, 15, 16, 17, 20, 22, 25]\n",
    "while len(l) > 0:\n",
    "    print(l)\n",
    "    square(l)\n",
    "    l = [x for x in l if x < 300]"
   ]
  },
  {
   "cell_type": "code",
   "execution_count": 4,
   "metadata": {
    "collapsed": false
   },
   "outputs": [
    {
     "name": "stdout",
     "output_type": "stream",
     "text": [
      "36\n"
     ]
    }
   ],
   "source": [
    "# Functions within functions\n",
    "def f1(a):\n",
    "    def f2(b):\n",
    "        return b**2\n",
    "    a = a*2\n",
    "    a = f2(a)\n",
    "    return a\n",
    "\n",
    "print(f1(3))    # returns 36\n",
    "\n",
    "# f2(3)         # inner function won't work outside the f1 function"
   ]
  },
  {
   "cell_type": "code",
   "execution_count": 5,
   "metadata": {
    "collapsed": false
   },
   "outputs": [
    {
     "data": {
      "text/plain": [
       "4"
      ]
     },
     "execution_count": 5,
     "metadata": {},
     "output_type": "execute_result"
    }
   ],
   "source": [
    "# Lambda function can be used to make functions. It has a user call \"lambda x\"\n",
    "# Useful if you want to create short functions\n",
    "y = lambda x: x**2\n",
    "y(2)"
   ]
  },
  {
   "cell_type": "code",
   "execution_count": null,
   "metadata": {
    "collapsed": true
   },
   "outputs": [],
   "source": []
  }
 ],
 "metadata": {
  "kernelspec": {
   "display_name": "Python 3",
   "language": "python",
   "name": "python3"
  },
  "language_info": {
   "codemirror_mode": {
    "name": "ipython",
    "version": 3
   },
   "file_extension": ".py",
   "mimetype": "text/x-python",
   "name": "python",
   "nbconvert_exporter": "python",
   "pygments_lexer": "ipython3",
   "version": "3.6.0"
  }
 },
 "nbformat": 4,
 "nbformat_minor": 2
}
